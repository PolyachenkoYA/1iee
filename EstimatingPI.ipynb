{
  "nbformat": 4,
  "nbformat_minor": 0,
  "metadata": {
    "colab": {
      "provenance": []
    },
    "kernelspec": {
      "name": "python3",
      "display_name": "Python 3"
    },
    "language_info": {
      "name": "python"
    }
  },
  "cells": [
    {
      "cell_type": "markdown",
      "source": [
        "Task 1: Estimating $\\pi$\n",
        "\n"
      ],
      "metadata": {
        "id": "djTp42Ql9X6I"
      }
    },
    {
      "cell_type": "code",
      "source": [
        "# Estimating PI\n",
        "from random import random\n",
        "\n",
        "import jax\n",
        "import jax.numpy as jnp\n",
        "\n",
        "\n",
        "import numpy as np\n",
        "\n",
        "def pi_python():\n",
        "  npoints = 100_000\n",
        "  xy = [(random(), random()) for _ in range(npoints)]\n",
        "\n",
        "  inside = 0\n",
        "  for x, y in xy:\n",
        "    if x**2 + y**2 < 1:\n",
        "      inside += 1.0\n",
        "\n",
        "  return inside * 4.0 / npoints\n",
        "\n",
        "def pi_np():\n",
        "  npoints = 100_000\n",
        "  xy = np.random.uniform(size=(npoints, 2))\n",
        "\n",
        "  inside = np.sum(np.sum(xy**2, axis=1) < 1)\n",
        "\n",
        "  return inside * 4.0 / npoints\n",
        "\n",
        "print(f\"pi ~= {pi_python()}\")\n",
        "print(f\"pi ~= {pi_np()}\")\n",
        "\n",
        "print(\"\\nPure Python:\")\n",
        "%timeit -n 10 pi_python()\n",
        "\n",
        "print(\"\\nNumpy Python:\")\n",
        "%timeit -n 10 pi_np()"
      ],
      "metadata": {
        "colab": {
          "base_uri": "https://localhost:8080/"
        },
        "id": "TdT9EiCDnfoR",
        "outputId": "e52c5cfe-7223-4a15-d39b-f6fe627b8740"
      },
      "execution_count": null,
      "outputs": [
        {
          "output_type": "stream",
          "name": "stdout",
          "text": [
            "pi ~= 3.13908\n",
            "\n",
            "Pure Python:\n",
            "213 ms ± 8.94 ms per loop (mean ± std. dev. of 7 runs, 10 loops each)\n"
          ]
        }
      ]
    },
    {
      "cell_type": "code",
      "source": [
        "# Solution"
      ],
      "metadata": {
        "id": "VC93g0UjFA4g"
      },
      "execution_count": null,
      "outputs": []
    }
  ]
}